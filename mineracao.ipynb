{
 "cells": [
  {
   "cell_type": "markdown",
   "metadata": {},
   "source": [
    "# **Análise de cancelamento de planos**\n",
    "---\n",
    "\n",
    "Neste *jupyter notebook*, vamos analisar as taxas de cancelamentos de planos da ***Umbrella Corporation***, e a partir dessa análise, tentar descobrir os motivos que levaram a uma alta taxa de cancelamento, e reverter a situação no processo.\n",
    "\n",
    "## **Passo 1**: Instalar o **Pandas**\n",
    "---\n",
    "A primeira coisa a se fazer é abrir o *dataset* na *notebook*. Para isso, iremos fazer o uso de uma biblioteca de ***Python*** usada para análise de dados chamada **Pandas**.\n",
    "\n",
    "1. Baixe o *dataset* no tema **Materiais**, que se encontra no site do [Google Classroom](https://classroom.googlecom) na pasta raiz do projeto.\n",
    "\n",
    "2. Em seguida, crie um ambiente virtual do Python na raiz do projeto(`.venv`)\n",
    "\n",
    "3. Após a crição do projeto `.venv`, instale a biblioteca **Pandas** no ambiente virtual usando **CLI** através do seguinte comando: `pip install pandas`. Não se esqueça de ativar o ambiente virtual no ***kernel*** do *notebook* no canto superior direito, em **Selecione Kernel**.\n",
    "---\n",
    "\n",
    "## **Passo 2**: Abrir o *dataset*\n",
    "---\n",
    "\n",
    "Com o **Pandas** instalado no ambiente virtual do nosso projeto, agora vamos abrir o ***dataset***. Para isso, vamos criar uma nova **célula de código** logo após essa célula de *markdown*, e digitarmos o código-fonte para abrir os dados do *dataset* no *notebook*. O código-fonte est´a baixo:"
   ]
  },
  {
   "cell_type": "code",
   "execution_count": null,
   "metadata": {},
   "outputs": [],
   "source": [
    "# importando biblioteca pandas\n",
    "import pandas as pd\n",
    "\n",
    "# lê os dados do dataset\n",
    "tabela = pd.read_csv('cancelamentos.csv')\n",
    "\n",
    "# mostra os dados da tabela\n",
    "display(tabela)"
   ]
  },
  {
   "cell_type": "markdown",
   "metadata": {},
   "source": [
    " comando `display()` permite a exibição dos dados como se fosse uma tabela.\n",
    "\n",
    "Só que agora que finalmente temos os dados armazenados na variável `tabela`, precisaremos filtrar esses dados. Vamos refazer a consulta, mas desta vez iremos retirar a coluna do ID, pois ela é inutíl para a nossa análise de dados.\n",
    "\n",
    "A seguir vamos acrescentar outra ceélula de código para realizar a filtragem de dados: "
   ]
  },
  {
   "cell_type": "code",
   "execution_count": null,
   "metadata": {},
   "outputs": [],
   "source": [
    "# exibe novamente os dados, eliminando a coluna ID\n",
    "tabela = tabela.drop('CustomerID', axis=1)\n",
    "display(tabela)"
   ]
  },
  {
   "cell_type": "markdown",
   "metadata": {},
   "source": [
    "## **Passo 3**:Tratamento de dados\n",
    "---\n",
    "\n",
    "### **Não é feitiçaria. É tecnologia...**\n",
    "\n",
    "Graças ao ***Python***, agora temos uma poderosa ferramenta para análise de dados muito mais perfeita que muita ferramenta.\n",
    "\n",
    "Na nossa planilha, nós temos muitas linhas, sendo que algumas delas estão com dados vazios (mas não sabemos qual, nem quantas). Portanto, vamos exibir as informações da nossa planilha para verificar quantas linhas possuem,de fato,dados, e quantas estão vazias. Veja a élula do código a seguir:"
   ]
  },
  {
   "cell_type": "code",
   "execution_count": null,
   "metadata": {},
   "outputs": [],
   "source": [
    "display(tabela.info())"
   ]
  },
  {
   "cell_type": "markdown",
   "metadata": {},
   "source": [
    "Os números de linhas para cada célula não batem, o que indica que existem células não preenchidas poluindo nossa análise de dados. Precisaremos eliminá-los. Segue a célula com o código abaixo:"
   ]
  },
  {
   "cell_type": "code",
   "execution_count": 28,
   "metadata": {},
   "outputs": [
    {
     "name": "stdout",
     "output_type": "stream",
     "text": [
      "<class 'pandas.core.frame.DataFrame'>\n",
      "Index: 881659 entries, 0 to 881665\n",
      "Data columns (total 11 columns):\n",
      " #   Column                  Non-Null Count   Dtype  \n",
      "---  ------                  --------------   -----  \n",
      " 0   idade                   881659 non-null  float64\n",
      " 1   sexo                    881659 non-null  object \n",
      " 2   tempo_como_cliente      881659 non-null  float64\n",
      " 3   frequencia_uso          881659 non-null  float64\n",
      " 4   ligacoes_callcenter     881659 non-null  float64\n",
      " 5   dias_atraso             881659 non-null  float64\n",
      " 6   assinatura              881659 non-null  object \n",
      " 7   duracao_contrato        881659 non-null  object \n",
      " 8   total_gasto             881659 non-null  float64\n",
      " 9   meses_ultima_interacao  881659 non-null  float64\n",
      " 10  cancelou                881659 non-null  float64\n",
      "dtypes: float64(8), object(3)\n",
      "memory usage: 80.7+ MB\n"
     ]
    },
    {
     "data": {
      "text/plain": [
       "None"
      ]
     },
     "metadata": {},
     "output_type": "display_data"
    }
   ],
   "source": [
    "tabela = tabela.dropna()\n",
    "display(tabela.info())"
   ]
  },
  {
   "cell_type": "markdown",
   "metadata": {},
   "source": [
    "## **Passo 4**: Análise de dados\n",
    "---\n",
    "\n",
    "Agora que os dados foram tratados, podemos iniciar a *Análise de dados* propriamente dita. Que tal começarmos com a **taxa de cancelamento da empresa**? Afinal de contas, esse é o **nosso objetivo**: diminuir a taxa de cancelamentos.\n",
    "\n",
    "Vamos pegar a coluna de taxa de cancelamentos e exibir para darmos uma olhada. Veja na célula de código a seguir:"
   ]
  },
  {
   "cell_type": "code",
   "execution_count": null,
   "metadata": {},
   "outputs": [],
   "source": [
    "display(tabela['cancelou'].value_counts())"
   ]
  },
  {
   "cell_type": "markdown",
   "metadata": {},
   "source": [
    "Repare que o número de cancelamentos é maior do que o de não cancelamentos, o que significa que algo de errado não está certo. Mas quanto de cancelamentos está a cima do de não cancelados? Vamos refazer a análise. Observe a célula do código a seguir:"
   ]
  },
  {
   "cell_type": "code",
   "execution_count": null,
   "metadata": {},
   "outputs": [],
   "source": [
    "display(tabela['cancelou'].value_counts(normalize=True).map('{:.2%}'.format))"
   ]
  },
  {
   "cell_type": "markdown",
   "metadata": {},
   "source": [
    "Agora sabemos que **56,71%** dos clientes cancelaram  seus contratos. Um número excessivamente alto, levando em conta que mais da metade dos clientes foram perdidos. Agora precisaremos investigar de onde vem essa taxa tão alta de cancelamentos.\n",
    "\n",
    "**IMPORTANTE: Na parte de análise de dados, não tem uma informação correta para ser análisada logo de cara. Esse é um processo que vai tomar tempo, pois você, de fato precisará analisar os dados e entender o que está acontecendo no seus dataset. Então pode ser que demore mais em alguns casos do que em outros para encontrar o que procura antes de propor uma solução.\n",
    "\n",
    "---\n",
    "## **Passo 5**: Investigando o problema:\n",
    "---\n",
    "\n",
    "Vamos por partes. Começaremos pela duração dos contratos. Ao verificar a coluna de duração de contratos (`duracao_contrato`), veremos que existem 3 tipos de contratos: **Anual, Trimestral,** e **Mensal**.Vejamos a duração médi de cada tipo de contrato. Vejamos a célula de código a seguir:"
   ]
  },
  {
   "cell_type": "code",
   "execution_count": null,
   "metadata": {},
   "outputs": [],
   "source": [
    "# números brutos\n",
    "display(tabela['duracao_contrato'].value_counts())\n",
    "\n",
    "# porcentagens\n",
    "display(tabela['duracao_contrato'].value_counts(normalize=True).map('{:.2%}'.format))"
   ]
  },
  {
   "cell_type": "markdown",
   "metadata": {},
   "source": [
    "A partir dessa análise, verifico que a minoria dos meus clientes possuem contrato do tipo **Mensal**. Será por que a maioria dos cancelamentos é do tipo de contrato mensal? Para descobrir, vamos analisar a taxa de cancelamentos por tipo de contrato. O que vamos fazer é agrupar os 3 tipos de contrato para verificar a taxa de cancelamentos de cada um. Vejamos a célula do nosso código abaixo:\n"
   ]
  },
  {
   "cell_type": "code",
   "execution_count": null,
   "metadata": {},
   "outputs": [],
   "source": [
    "display(tabela.groupby('duracao_contrato').mean(numeric_only=True))"
   ]
  },
  {
   "cell_type": "markdown",
   "metadata": {},
   "source": [
    "Podemos ver que tem algo estranho na taxa de cancelmanetos visto na coluna cancelou. Vamos verifiar qual a porcentagem de cancelamentos de cada um dos tipos de contrato:"
   ]
  },
  {
   "cell_type": "code",
   "execution_count": null,
   "metadata": {},
   "outputs": [],
   "source": [
    "tb_cancelar = tabela.groupby('duracao_contrato').mean(numeric_only=True)\n",
    "display(tb_cancelar['cancelou'].map('{:.2%}'.format))"
   ]
  },
  {
   "cell_type": "markdown",
   "metadata": {},
   "source": [
    "Conforme análise, descobrimos que os clientes que possuem contrato do tipo mensal possuem uma taxa de **100% de cancelamento**. Dessa forma, vamos re-analisar o dataset, mas desta vez, sem os contratos do tipo mensal."
   ]
  },
  {
   "cell_type": "code",
   "execution_count": null,
   "metadata": {},
   "outputs": [],
   "source": [
    "tabela = tabela[tabela['duracao_contrato'] != 'Monthly']\n",
    "display(tabela)\n",
    "display(tabela['cancelou'].value_counts())\n",
    "display(tabela['cancelou'].value_counts(normalize=True).map('{:.2%}'.format))"
   ]
  },
  {
   "cell_type": "markdown",
   "metadata": {},
   "source": [
    "Conseguimos diminuir a taxa de cancelamento para **46,05%**. É uma diminuição de 10%, mas a taxa de cancelamentos ainda está muito alta. Afinal, são quase 50% de cancelamentos, mesmo com a eliminação dos contratos tipo mensal. Então vamos continuar investigando.\n",
    "\n",
    "Pudmos verificar em análises anteriores que há uma alta taxa de cancelamento entre os clientes que atrasam o pagamento de seus contratos. Então o nosso próximo passo será analisar esses clientes.\n",
    "\n",
    "---\n",
    "### Gráficos\n",
    "---\n",
    "\n",
    "Uma das melhores formas de se analisar dados é através de gráficos, pois fica muito mais fácil visualizar os dados e obter informações necessárias. \n",
    "\n",
    "Para o nosso caso aqui e agora, vamos usar a biblioteca ***plotly.express*** para gerar os gráficos das nossas colunas. Obviamente, precisaremos fazer sua instalação atráves do comando `pip install plotly` no CLI.\n",
    "\n",
    "Vamos usar o **plotly** para criar um histograma com cada uma das colunas. Assim poderemos analisar cada uma das informações e verificar como elas se comportam em relação aos cancelamentos da empresa. Vamos gerar os gráficos de todas as colunas a partir da célula de código a seguir:"
   ]
  },
  {
   "cell_type": "code",
   "execution_count": null,
   "metadata": {},
   "outputs": [],
   "source": [
    "import plotly.express as px\n",
    "\n",
    "for coluna in tabela.columns:\n",
    "    grafico = px.histogram(tabela, x=coluna, color='cancelou', width=600)\n",
    "    grafico.show()"
   ]
  },
  {
   "cell_type": "markdown",
   "metadata": {},
   "source": [
    "**Obs**: caso o código para exibição de gráficos retorne o erro, instale uma biblioteca adicional que deverá corrigir isso: `pip install nbformat`. Se mesmo após isso o gráfico não funcionar e continuar dando erro, feche o VSCode e reinicie o programa, re-executando todas as células novamente."
   ]
  },
  {
   "cell_type": "markdown",
   "metadata": {},
   "source": [
    "Após análise dos gráficos, pudermos verificar que a quantidade cancelamento de plano de clientes que atrasaram o pagamento é maior do que a de quem não atrasou o pagamento.\n",
    "\n",
    "Também pudemos verificar que a taxa de cancelamentos está diretamente ligada ao número de ligações feitas ao call center."
   ]
  },
  {
   "cell_type": "markdown",
   "metadata": {},
   "source": [
    "**SOLUÇÃO:** Melhorar o setor no call center"
   ]
  },
  {
   "cell_type": "markdown",
   "metadata": {},
   "source": [
    "\n",
    "---\n",
    "## Resultado\n",
    "---\n",
    "\n",
    "Analisando os gráficos de ligações para o call center e dos atrasos de pagamento, conseguimoes chegar a raiz do problema: **os clientes que fizeram mais que 5 ligações para o call center cancelaram seus planos**. Para finalizarmos, vamos refazer a análise do dataset, re-exibindo os dados, desta vez sem os planos mensais, e sem as ligações para o call center que excederam as 5 tentativas, e também vamos eliminar da exibição os clientes que passaram mais tempo sem pagar as suas assinaturas. Vejamos o código a seguir:"
   ]
  },
  {
   "cell_type": "code",
   "execution_count": null,
   "metadata": {},
   "outputs": [],
   "source": [
    "tabela = tabela[tabela['ligacoes_callcenter'] < 5]\n",
    "tabela = tabela[tabela['dias_atraso'] <= 20]\n",
    "display(tabela)\n",
    "display(tabela['cancelou'].value_counts())\n",
    "display(tabela['cancelou'].value_counts(normalize=True).map('{:.2%}'.format))"
   ]
  }
 ],
 "metadata": {
  "kernelspec": {
   "display_name": ".venv",
   "language": "python",
   "name": "python3"
  },
  "language_info": {
   "codemirror_mode": {
    "name": "ipython",
    "version": 3
   },
   "file_extension": ".py",
   "mimetype": "text/x-python",
   "name": "python",
   "nbconvert_exporter": "python",
   "pygments_lexer": "ipython3",
   "version": "3.12.5"
  }
 },
 "nbformat": 4,
 "nbformat_minor": 2
}
